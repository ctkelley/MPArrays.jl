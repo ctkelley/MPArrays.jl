{
 "cells": [
  {
   "cell_type": "markdown",
   "id": "eb5e91e0",
   "metadata": {},
   "source": [
    "$\\newcommand{\\calf}{{\\cal F}}\n",
    "\\newcommand{\\dnu}{d \\nu}\n",
    "\\newcommand{\\mf}{{\\bf F}}\n",
    "\\newcommand{\\md}{{\\bf D}}\n",
    "\\newcommand{\\mP}{{\\bf P}}\n",
    "\\newcommand{\\mU}{{\\bf U}}\n",
    "\\newcommand{\\vu}{{\\bf u}}\n",
    "\\newcommand{\\vx}{{\\bf x}}\n",
    "\\newcommand{\\vw}{{\\bf w}}\n",
    "\\newcommand{\\vy}{{\\bf y}}\n",
    "\\newcommand{\\vf}{{\\bf f}}\n",
    "\\newcommand{\\vs}{{\\bf s}}\n",
    "\\newcommand{\\ve}{{\\bf e}}\n",
    "\\newcommand{\\vd}{{\\bf d}}\n",
    "\\newcommand{\\vb}{{\\bf b}}\n",
    "\\newcommand{\\vz}{{\\bf z}}\n",
    "\\newcommand{\\mg}{{\\bf G}}\n",
    "\\newcommand{\\ml}{{\\bf L}}\n",
    "\\newcommand{\\mg}{{\\bf G}}\n",
    "\\newcommand{\\mv}{{\\bf V}}\n",
    "\\newcommand{\\ma}{{\\bf A}}\n",
    "\\newcommand{\\mi}{{\\bf I}}\n",
    "\\newcommand{\\mm}{{\\bf M}}\n",
    "\\newcommand{\\mb}{{\\bf B}}\n",
    "\\newcommand{\\ball}{{\\cal B}}\n",
    "\\newcommand{\\ptc}{{\\Psi TC}}\n",
    "\\newcommand{\\diag}{\\mbox{diag}}\n",
    "\\newcommand{\\begeq}{{\\begin{equation}}}\n",
    "\\newcommand{\\endeq}{{\\end{equation}}}\n",
    "$\n",
    "\n",
    "This is an IJulia notebook for reporducing the results in the paper\n",
    "\n",
    "__[Using MultiPrecisonArrays.jl:  Iterative Refinement in Julia](https://github.com/ctkelley/MultiPrecisionArrays.jl/blob/main/Publications_and_Presentations/MPArray.pdf)__\n",
    "\n",
    "C.T. Kelley\n",
    "\n",
    "The paper has the details and this notebook only has links to the codes that generated the tables. The codes\n",
    "are in the subdirectory [Codes_for_Docs](https://github.com/ctkelley/MultiPrecisionArrays.jl/tree/main/Codes_For_Docs) of the repo, which should be\n",
    "where you are now.\n",
    "\n",
    "To run this you should install the package and the examples and clone this subdirectory.\n",
    "\n",
    "You will need to run the first two cells in this notebook before doing anything else.\n"
   ]
  },
  {
   "cell_type": "code",
   "execution_count": 9,
   "id": "c9d086ca",
   "metadata": {},
   "outputs": [],
   "source": [
    "include(\"mpnote.jl\")"
   ]
  },
  {
   "cell_type": "markdown",
   "id": "b55a7b83",
   "metadata": {},
   "source": [
    "Contents:\n",
    "\n",
    " - Appendix 1: [Interprecision Transfers](##appendix-a:-interprecision-transfers)"
   ]
  },
  {
   "cell_type": "markdown",
   "id": "1ff0b46c",
   "metadata": {},
   "source": [
    "## Appendix A: Interprecision Transfers"
   ]
  },
  {
   "cell_type": "markdown",
   "id": "77f06420",
   "metadata": {},
   "source": [
    "The code __MakeMPTab.jl__ makes the tables comparing the costs of solves. The minimal docstrings tell the story.\n",
    "We went through the double-single cases first."
   ]
  },
  {
   "cell_type": "code",
   "execution_count": 13,
   "id": "be19398e",
   "metadata": {},
   "outputs": [
    {
     "name": "stdout",
     "output_type": "stream",
     "text": [
      "search: \u001b[0m\u001b[1mM\u001b[22m\u001b[0m\u001b[1ma\u001b[22m\u001b[0m\u001b[1mk\u001b[22m\u001b[0m\u001b[1me\u001b[22m\u001b[0m\u001b[1mM\u001b[22m\u001b[0m\u001b[1mP\u001b[22m\u001b[0m\u001b[1mT\u001b[22m\u001b[0m\u001b[1ma\u001b[22m\u001b[0m\u001b[1mb\u001b[22m\n",
      "\n"
     ]
    },
    {
     "data": {
      "text/latex": [
       "MakeMPTab(m = 5, texok = false; T = Float64, allocate=true) Make a nice table of the timings for the solves.\n",
       "\n",
       "Your options are the number of rows, if LaTeX is printed or not, the high precision, and a switch for allocating or non allocating factorizations, matrix multiplies, and solves. \n",
       "\n"
      ],
      "text/markdown": [
       "MakeMPTab(m = 5, texok = false; T = Float64, allocate=true) Make a nice table of the timings for the solves.\n",
       "\n",
       "Your options are the number of rows, if LaTeX is printed or not, the high precision, and a switch for allocating or non allocating factorizations, matrix multiplies, and solves. \n"
      ],
      "text/plain": [
       "  MakeMPTab(m = 5, texok = false; T = Float64, allocate=true) Make a nice\n",
       "  table of the timings for the solves.\n",
       "\n",
       "  Your options are the number of rows, if LaTeX is printed or not, the high\n",
       "  precision, and a switch for allocating or non allocating factorizations,\n",
       "  matrix multiplies, and solves."
      ]
     },
     "execution_count": 13,
     "metadata": {},
     "output_type": "execute_result"
    }
   ],
   "source": [
    "? MakeMPTab"
   ]
  },
  {
   "cell_type": "code",
   "execution_count": 14,
   "id": "23672a59",
   "metadata": {},
   "outputs": [
    {
     "name": "stdout",
     "output_type": "stream",
     "text": [
      "Table A1 from the paper\n",
      "    n      MV64       LU32       HPS        MPS        LPS   LU32/MPS\n",
      "  512    3.5e-05    7.6e-04    5.1e-05    9.0e-05    3.0e-05 8.4e+00\n",
      " 1024    6.2e-05    2.7e-03    1.9e-04    7.6e-04    1.1e-04 3.5e+00\n"
     ]
    }
   ],
   "source": [
    "println(\"Table A1 from the paper\")\n",
    "MakeMPTab(2; allocate=true);"
   ]
  },
  {
   "cell_type": "code",
   "execution_count": 15,
   "id": "b93c2e0a",
   "metadata": {},
   "outputs": [
    {
     "name": "stdout",
     "output_type": "stream",
     "text": [
      "Table A2 from the paper\n",
      "    n      MV64       LU32       HPS        MPS        LPS   LU32/MPS\n",
      "  512    3.1e-05    7.7e-04    5.1e-05    5.2e-05    2.8e-05 1.5e+01\n",
      " 1024    9.4e-05    2.6e-03    1.9e-04    1.9e-04    1.1e-04 1.3e+01\n"
     ]
    }
   ],
   "source": [
    "println(\"Table A2 from the paper\")\n",
    "MakeMPTab(2; allocate=false);"
   ]
  },
  {
   "cell_type": "code",
   "execution_count": null,
   "id": "a86569b3",
   "metadata": {},
   "outputs": [],
   "source": []
  }
 ],
 "metadata": {
  "kernelspec": {
   "display_name": "Julia 1.9.1",
   "language": "julia",
   "name": "julia-1.9"
  },
  "language_info": {
   "file_extension": ".jl",
   "mimetype": "application/julia",
   "name": "julia",
   "version": "1.9.3"
  }
 },
 "nbformat": 4,
 "nbformat_minor": 5
}
